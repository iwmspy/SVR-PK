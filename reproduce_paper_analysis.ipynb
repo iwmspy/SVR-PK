{
 "cells": [
  {
   "cell_type": "markdown",
   "metadata": {},
   "source": [
    "# Environment setting\n",
    "[Conda](https://www.anaconda.com/docs/getting-started/miniconda/main) is recommended to handle packages in a virtual environment. Required packages are listed in `_env/requirements.yml`."
   ]
  },
  {
   "cell_type": "markdown",
   "metadata": {},
   "source": [
    "# Build models\n",
    "Run the command to make QSAR models. \n",
    "\n",
    "The results will be saved `SVR-PK/outputs/prediction_level1_augmented` (for product-based splitting with data augmentation) folder with target IDs as subfolders.\n",
    "\n",
    "In each subfolder, you can find these files: (Fix this:bug: :exclamation:)\n",
    "- `mod.pickle`                                : Pickle encompassing the constructed model\n",
    "- `prediction_results_prd_test(train).tsv`    : Predicted value for each sample by SVR-baseline models (i.e. prediction from product)\n",
    "- `prediction_results_rct_test(train).tsv`    : Predicted value for each sample by SVR-PK, -SK and -concatECFP models (i.e. prediction from reactant pair)\n",
    "- `prediction_score_prd_test(train).tsv`      : Prediction accuracy of SVR-baseline models\n",
    "- `prediction_score_rct_test(train).tsv`      : Prediction accuracy of SVR-PK, -SK and -concatECFP models"
   ]
  },
  {
   "cell_type": "code",
   "execution_count": null,
   "metadata": {},
   "outputs": [],
   "source": [
    "# Product-based splitting\n",
    "# ! python build_model.py -c config/chembl_config_lv1.json\n",
    "\n",
    "# Product-based splitting with data augmentation\n",
    "! python build_model.py -c config/chembl_config_lv1_augment.json\n",
    "\n",
    "# Reactant-based splitting\n",
    "# ! python build_model.py -c config/chembl_config_lv2.json\n",
    "\n",
    "# Reactant-based splitting with data augmentation\n",
    "# ! python build_model.py -c config/chembl_config_lv2_augment.json"
   ]
  },
  {
   "cell_type": "markdown",
   "metadata": {},
   "source": [
    "# Screen reactants and combine by generated models\n",
    "Reactant screening using built SVR-PK (and SVR-baseline) models. Before screening, you should decide a virtual reaction and write it on your configuration file (see 0. Configuration in README.md).\n",
    "\n",
    "This screened results are stored in `SVR-PK/outputs/reactant_combination_level1_augmented_10000_rc1000` (for 1000 samples for each reactant)\n",
    "\n",
    "In each subfolder, you can find these files:\n",
    "- `{chembl_id}_{reaction_id}_rct(1,2)_candidates_selected_whole.tsv`: Reactant candidates (random sampled)\n",
    "- `{chembl_id}_{reaction_id}_rct(1,2)_candidates_selected_kernel_whole.tsv`: Kernel matrix of reactant candidates (random sampled)\n",
    "- `ok_combinations.tsv`: Index of reactant pairs that prediction is exceeded the threshold determined by `ext_ratio`\n",
    "- `{chembl_id}_{reaction_id}_rct_candidates_pairs_whole_sparse_split_highscored.tsv`: Upper n_samples * 100 of predicted reactant pairs (predicted by SVR-PK)\n",
    "- `{chembl_id}_{reaction_id}_rct_candidates_pairs_whole_sparse_split_retrieved.tsv`: Upper n_samples of predicted reactant pairs (predicted by SVR-baseline), also the invalid molecules were removed (see the Synthesizability of virtual molecules section of paper)\n",
    "- `{chembl_id}_{reaction_id}_rct_candidates_pairs_whole_sparse_split_retrieved_route.tsv`: Samples for which the reactant pairs match the output of the retrosynthesis"
   ]
  },
  {
   "cell_type": "code",
   "execution_count": null,
   "metadata": {},
   "outputs": [],
   "source": [
    "# Sample 1k reactants for each\n",
    "! python reactant_screening.py -c config/chembl_config_for_screening_1k.json\n",
    "\n",
    "# Sample 10k reactants for each\n",
    "# ! python reactant_screening.py -c config/chembl_config_for_screening_10k.json\n",
    "\n",
    "# Sample 100k reactants for each\n",
    "# ! python reactant_screening.py -c config/chembl_config_for_screening_100k.json"
   ]
  },
  {
   "cell_type": "markdown",
   "metadata": {},
   "source": [
    "## Thompson sampling for comparison\n",
    "To screen reactants using the sampling, run the following command.\n",
    "\n",
    "The screened results are also stored in `SVR-PK/outputs/reactant_combination_level1_augmented_10000_rc1000` (for 1000 samples for each reactant)\n",
    "\n",
    "In each subfolder, you can find these files:\n",
    "- `ts_results.csv`: `n_samples` of Thompson sampling results\n",
    "- `ts_results_valid.tsv`: Invalid molecules were removed from `ts_results.csv` (see the Synthesizability of virtual molecules section of paper)\n",
    "- `ts_results_valid_route.tsv`: Samples for which the reactant pairs match the output of the retrosynthesis"
   ]
  },
  {
   "cell_type": "code",
   "execution_count": null,
   "metadata": {},
   "outputs": [],
   "source": [
    "# Sample 1k reactants for each\n",
    "! python reactant_screening_by_TS.py -c config/chembl_config_for_screening_1k.json\n",
    "\n",
    "# Sample 10k reactants for each\n",
    "# ! python reactant_screening_by_TS.py -c config/chembl_config_for_screening_10k.json\n",
    "\n",
    "# Sample 100k reactants for each\n",
    "# ! python reactant_screening_by_TS.py -c config/chembl_config_for_screening_100k.json"
   ]
  },
  {
   "cell_type": "markdown",
   "metadata": {},
   "source": [
    "# Analyze results\n",
    "Please refer `SVR-PK/analysis.ipynb`"
   ]
  }
 ],
 "metadata": {
  "kernelspec": {
   "display_name": "svr-pk",
   "language": "python",
   "name": "python3"
  },
  "language_info": {
   "codemirror_mode": {
    "name": "ipython",
    "version": 3
   },
   "file_extension": ".py",
   "mimetype": "text/x-python",
   "name": "python",
   "nbconvert_exporter": "python",
   "pygments_lexer": "ipython3",
   "version": "3.11.8"
  },
  "orig_nbformat": 4
 },
 "nbformat": 4,
 "nbformat_minor": 2
}
